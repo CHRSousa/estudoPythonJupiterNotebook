{
 "cells": [
  {
   "cell_type": "code",
   "execution_count": 1,
   "metadata": {},
   "outputs": [
    {
     "name": "stdout",
     "output_type": "stream",
     "text": [
      "2\n",
      "4\n",
      "6\n",
      "8\n",
      "10\n",
      "12\n",
      "14\n",
      "16\n",
      "18\n",
      "20\n"
     ]
    }
   ],
   "source": [
    "# Exercício 1 - Crie uma função que imprima a sequência de números pares entre 1 e 20 (a função não recebe parâmetro) e \n",
    "# depois faça uma chamada à função para listar os números\n",
    "def printSequencia():\n",
    "    for i in range(2,21,2):\n",
    "        print(i)\n",
    "printSequencia()"
   ]
  },
  {
   "cell_type": "code",
   "execution_count": 2,
   "metadata": {},
   "outputs": [
    {
     "data": {
      "text/plain": [
       "'INTER 0 X 1 VOZÃO!'"
      ]
     },
     "execution_count": 2,
     "metadata": {},
     "output_type": "execute_result"
    }
   ],
   "source": [
    "# Exercício 2 - Crie uam função que receba uma string como argumento e retorne a mesma string em letras maiúsculas.\n",
    "# Faça uma chamada à função, passando como parâmetro uma string\n",
    "def upperStr(str1):\n",
    "    return str1.upper()\n",
    "\n",
    "upperStr('Inter 0 x 1 Vozão!')"
   ]
  },
  {
   "cell_type": "code",
   "execution_count": 5,
   "metadata": {},
   "outputs": [
    {
     "name": "stdout",
     "output_type": "stream",
     "text": [
      "['lápis', 'caneta', 'borracha', 'apagador', 'régua', 'compasso']\n"
     ]
    }
   ],
   "source": [
    "# Exercício 3 - Crie uma função que receba como parâmetro uma lista de 4 elementos, adicione 2 elementos a lista e \n",
    "# imprima a lista\n",
    "lista = ['lápis', 'caneta', 'borracha', 'apagador']\n",
    "def printLista(list1):\n",
    "    list1.append('régua')\n",
    "    list1.append('compasso')\n",
    "    print(list1)\n",
    "printLista(list1)"
   ]
  },
  {
   "cell_type": "code",
   "execution_count": 9,
   "metadata": {},
   "outputs": [
    {
     "name": "stdout",
     "output_type": "stream",
     "text": [
      "Ceará\n",
      "Ceará\n",
      "é\n",
      "o\n",
      "campeão\n"
     ]
    }
   ],
   "source": [
    "# Exercício 4 - Crie uma função que receba um argumento formal e uma possível lista de elementos. Faça duas chamadas \n",
    "# à função, com apenas 1 elemento e na segunda chamada com 4 elementos\n",
    "def funcaoDinamica(var1, *var2):\n",
    "    print(var1)\n",
    "    for item in var2:\n",
    "        print(item)\n",
    "\n",
    "funcaoDinamica(\"Ceará\")\n",
    "funcaoDinamica(\"Ceará\",\"é\", \"o\",\"campeão\")"
   ]
  },
  {
   "cell_type": "code",
   "execution_count": 12,
   "metadata": {},
   "outputs": [
    {
     "data": {
      "text/plain": [
       "7"
      ]
     },
     "execution_count": 12,
     "metadata": {},
     "output_type": "execute_result"
    }
   ],
   "source": [
    "# Exercício 5 - Crie uma função anônima e atribua seu retorno a uma variável chamada soma. A expressão vai receber 2 \n",
    "# números como parâmetro e retornar a soma deles\n",
    "soma = lambda x, y : x + y\n",
    "soma(3,4)"
   ]
  },
  {
   "cell_type": "code",
   "execution_count": 13,
   "metadata": {},
   "outputs": [
    {
     "name": "stdout",
     "output_type": "stream",
     "text": [
      "Dentro da função o total é :  30\n",
      "Fora da função o total é :  0\n"
     ]
    }
   ],
   "source": [
    "# Exercício 6 - Execute o código abaixo e certifique-se que compreende a diferença entre variável global e local\n",
    "total = 0; \n",
    "def soma( arg1, arg2 ):\n",
    "    total = arg1 + arg2; \n",
    "    print (\"Dentro da função o total é : \", total)\n",
    "    return total;\n",
    "\n",
    "\n",
    "soma( 10, 20 );\n",
    "print (\"Fora da função o total é : \", total)"
   ]
  },
  {
   "cell_type": "code",
   "execution_count": 16,
   "metadata": {},
   "outputs": [
    {
     "name": "stdout",
     "output_type": "stream",
     "text": [
      "          admit         gre       gpa      rank\n",
      "count  5.000000    5.000000  5.000000  5.000000\n",
      "mean   0.600000  616.000000  3.480000  3.000000\n",
      "std    0.547723  185.148589  0.421307  1.224745\n",
      "min    0.000000  380.000000  2.930000  1.000000\n",
      "25%    0.000000  520.000000  3.190000  3.000000\n",
      "50%    1.000000  640.000000  3.610000  3.000000\n",
      "75%    1.000000  660.000000  3.670000  4.000000\n",
      "max    1.000000  880.000000  4.000000  4.000000\n"
     ]
    }
   ],
   "source": [
    "# Exercício 7 - Crie uma função que receba o arquivo abaixo como argumento e retorne um resumo estatístico descritivo \n",
    "# do arquivo. Dica, use Pandas e um de seus métodos, describe()\n",
    "# Arquivo: \"binary.csv\"\n",
    "import pandas as pd\n",
    "file_name = \"https://raw.githubusercontent.com/dsacademybr/PythonFundamentos/master/JupyterNotebooks/Cap%C3%ADtulo02/binary.csv\"\n",
    "def resumo(file_name):\n",
    "    df = pd.read_csv(file_name)\n",
    "    print(df.describe())\n",
    "    \n",
    "resumo(file_name)"
   ]
  }
 ],
 "metadata": {
  "kernelspec": {
   "display_name": "Python 3",
   "language": "python",
   "name": "python3"
  },
  "language_info": {
   "codemirror_mode": {
    "name": "ipython",
    "version": 3
   },
   "file_extension": ".py",
   "mimetype": "text/x-python",
   "name": "python",
   "nbconvert_exporter": "python",
   "pygments_lexer": "ipython3",
   "version": "3.6.2"
  }
 },
 "nbformat": 4,
 "nbformat_minor": 2
}
